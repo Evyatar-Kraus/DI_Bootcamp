{
 "cells": [
  {
   "cell_type": "markdown",
   "id": "90c3f3da",
   "metadata": {},
   "source": [
    "Write a function to create a numpy array using only the input: start, length, and stop.\n",
    "Use the function to create an numpy array of length 100, starting from 6 and has a step of 4 between consecutive numbers"
   ]
  },
  {
   "cell_type": "code",
   "execution_count": 82,
   "id": "1dd05fd1",
   "metadata": {},
   "outputs": [
    {
     "name": "stdout",
     "output_type": "stream",
     "text": [
      "[  6  10  14  18  22  26  30  34  38  42  46  50  54  58  62  66  70  74\n",
      "  78  82  86  90  94  98 102 106 110 114 118 122 126 130 134 138 142 146\n",
      " 150 154 158 162 166 170 174 178 182 186 190 194 198 202 206 210 214 218\n",
      " 222 226 230 234 238 242 246 250 254 258 262 266 270 274 278 282 286 290\n",
      " 294 298 302 306 310 314 318 322 326 330 334 338 342 346 350 354 358 362\n",
      " 366 370 374 378 382 386 390 394 398 402]\n",
      "100\n"
     ]
    }
   ],
   "source": [
    "def get_numpy_arr(start,length,stop):\n",
    "    return np.arange(start=start, stop=stop, step=(stop-start)/length,dtype=int)\n",
    "\n",
    "print(get_numpy_arr(start=6,length=100,stop=406))\n",
    "print(len(get_numpy_arr(start=6,length=100,stop=406)))"
   ]
  },
  {
   "cell_type": "markdown",
   "id": "1ce6e030",
   "metadata": {},
   "source": [
    "2.Drop all nan values from the following numpy array.\n",
    "\n"
   ]
  },
  {
   "cell_type": "code",
   "execution_count": 81,
   "id": "e0a006ca",
   "metadata": {},
   "outputs": [
    {
     "name": "stdout",
     "output_type": "stream",
     "text": [
      "[1 2 3 5 6 7]\n"
     ]
    }
   ],
   "source": [
    "a = np.array([1,2,3,np.nan,5,6,7,np.nan])\n",
    "no_nans_a = np.array(list(filter(lambda x: np.isfinite(x), a))).astype(int)\n",
    "no_nans_a = np.array([num for num in a if  np.isfinite(num)]).astype(int)\n",
    "print(no_nans_a)"
   ]
  },
  {
   "cell_type": "markdown",
   "id": "9ec34a2c",
   "metadata": {},
   "source": [
    "create a random numpy array that has a shape of (5, 6) filled with integers between 1 and 100.\n",
    "Then compute the maximum int for each row in the array\n",
    "\n",
    "\n"
   ]
  },
  {
   "cell_type": "code",
   "execution_count": 97,
   "id": "86987da0",
   "metadata": {},
   "outputs": [
    {
     "name": "stdout",
     "output_type": "stream",
     "text": [
      "[[72 89 24 41 63 91]\n",
      " [65 71 47 29 50 54]\n",
      " [86 56 37 58 62 94]\n",
      " [45 69 66 85 83 96]\n",
      " [26 46 96 78 77  1]]\n",
      "[91 71 94 96 96]\n"
     ]
    }
   ],
   "source": [
    "x = np.random.randint(1, 101, size=(5,6))\n",
    "print(x)\n",
    "row_maximums = np.amax(x,1)\n",
    "print(row_maximums)"
   ]
  },
  {
   "cell_type": "markdown",
   "id": "8cfe3832",
   "metadata": {},
   "source": [
    "4.\n",
    "use a pandas Series function to find the unique values and their frequencies of the following Series:\n",
    "\n",
    "series = pd.Series(np.take(list('abcdefghijklmnop'), np.random.randint(16, size=500)))"
   ]
  }
 ],
 "metadata": {
  "kernelspec": {
   "display_name": "Python 3 (ipykernel)",
   "language": "python",
   "name": "python3"
  },
  "language_info": {
   "codemirror_mode": {
    "name": "ipython",
    "version": 3
   },
   "file_extension": ".py",
   "mimetype": "text/x-python",
   "name": "python",
   "nbconvert_exporter": "python",
   "pygments_lexer": "ipython3",
   "version": "3.10.0"
  }
 },
 "nbformat": 4,
 "nbformat_minor": 5
}
